{
  "nbformat": 4,
  "nbformat_minor": 0,
  "metadata": {
    "colab": {
      "name": "Untitled",
      "provenance": [],
      "collapsed_sections": [],
      "authorship_tag": "ABX9TyNBO1Le5iA3c7pVNW1y1wMP",
      "include_colab_link": true
    },
    "kernelspec": {
      "name": "python3",
      "display_name": "Python 3"
    },
    "accelerator": "GPU"
  },
  "cells": [
    {
      "cell_type": "markdown",
      "metadata": {
        "id": "view-in-github",
        "colab_type": "text"
      },
      "source": [
        "<a href=\"https://colab.research.google.com/github/iDenTicsc/PDI/blob/master/FuncionesYVariables.ipynb\" target=\"_parent\"><img src=\"https://colab.research.google.com/assets/colab-badge.svg\" alt=\"Open In Colab\"/></a>"
      ]
    },
    {
      "cell_type": "code",
      "metadata": {
        "id": "7nkgD9bEhbe2",
        "colab_type": "code",
        "outputId": "7f933205-63c5-4484-977c-f537f65881a5",
        "colab": {
          "base_uri": "https://localhost:8080/",
          "height": 34
        }
      },
      "source": [
        "x = 69 #Variable chida\n",
        "print(x)"
      ],
      "execution_count": 0,
      "outputs": [
        {
          "output_type": "stream",
          "text": [
            "69\n"
          ],
          "name": "stdout"
        }
      ]
    },
    {
      "cell_type": "code",
      "metadata": {
        "id": "wjpfVWd8lrQA",
        "colab_type": "code",
        "outputId": "f06f75e0-43b1-4e45-90c8-ec79c4a00c43",
        "colab": {
          "base_uri": "https://localhost:8080/",
          "height": 34
        }
      },
      "source": [
        "y = 69.0 #Variable flotante bien pro ;v\n",
        "I = \"is the\"\n",
        "z = True #Variable booleana \n",
        "F=\"UwU\"# Variable cadena\n",
        "print(y,I,z,F)\n"
      ],
      "execution_count": 0,
      "outputs": [
        {
          "output_type": "stream",
          "text": [
            "69.0 is the True UwU\n"
          ],
          "name": "stdout"
        }
      ]
    },
    {
      "cell_type": "code",
      "metadata": {
        "id": "MXCinI22nbww",
        "colab_type": "code",
        "outputId": "4cc336c0-6137-465b-acd2-f9e6582eb0f9",
        "colab": {
          "base_uri": "https://localhost:8080/",
          "height": 34
        }
      },
      "source": [
        "def perimetro(d): #como declarar una funcion\n",
        "  s = 4*d\n",
        "  return s\n",
        "\n",
        "def area(d):\n",
        "  l = d**2\n",
        "  return l\n",
        "\n",
        "def cuadrado (d):\n",
        "  P = perimetro(d)\n",
        "  A = area(d)\n",
        "  return P , A\n",
        "cuadrado(50)"
      ],
      "execution_count": 0,
      "outputs": [
        {
          "output_type": "execute_result",
          "data": {
            "text/plain": [
              "(200, 2500)"
            ]
          },
          "metadata": {
            "tags": []
          },
          "execution_count": 24
        }
      ]
    },
    {
      "cell_type": "code",
      "metadata": {
        "id": "SzW4w_e73BT_",
        "colab_type": "code",
        "outputId": "11296c09-d457-4373-a2bf-a5fe0a68c1b3",
        "colab": {
          "base_uri": "https://localhost:8080/",
          "height": 34
        }
      },
      "source": [
        "List1 = [1,2,3,4]\n",
        "List1.append(7)\n",
        "List1.remove(1)\n",
        "\n",
        "print(List1)"
      ],
      "execution_count": 0,
      "outputs": [
        {
          "output_type": "stream",
          "text": [
            "[2, 3, 4, 7]\n"
          ],
          "name": "stdout"
        }
      ]
    }
  ]
}